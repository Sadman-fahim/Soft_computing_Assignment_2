{
  "nbformat": 4,
  "nbformat_minor": 0,
  "metadata": {
    "colab": {
      "name": "170104009_Exp_03.ipynb",
      "provenance": [],
      "collapsed_sections": []
    },
    "kernelspec": {
      "name": "python3",
      "display_name": "Python 3"
    },
    "language_info": {
      "name": "python"
    },
    "accelerator": "GPU"
  },
  "cells": [
    {
      "cell_type": "code",
      "metadata": {
        "id": "HT9i40sMM5lt"
      },
      "source": [
        "import os\n",
        "import pandas as pd\n",
        "import torch\n",
        "from torch.utils.data import Dataset, DataLoader  \n",
        "from skimage import io"
      ],
      "execution_count": 1,
      "outputs": []
    },
    {
      "cell_type": "code",
      "metadata": {
        "id": "EvahDt2be8xz"
      },
      "source": [
        "import torch\n",
        "import torch.nn as nn\n",
        "import torchvision.transforms as transforms"
      ],
      "execution_count": 2,
      "outputs": []
    },
    {
      "cell_type": "code",
      "metadata": {
        "id": "USeZSXxquQUZ"
      },
      "source": [
        ""
      ],
      "execution_count": 2,
      "outputs": []
    },
    {
      "cell_type": "code",
      "metadata": {
        "colab": {
          "base_uri": "https://localhost:8080/"
        },
        "id": "cjT53blqLYw3",
        "outputId": "2d39c163-4756-40d7-93d4-ebc06a41ec42"
      },
      "source": [
        "from google.colab import drive\n",
        "drive.mount('/content/drive')"
      ],
      "execution_count": 3,
      "outputs": [
        {
          "output_type": "stream",
          "name": "stdout",
          "text": [
            "Mounted at /content/drive\n"
          ]
        }
      ]
    },
    {
      "cell_type": "markdown",
      "metadata": {
        "id": "CdvCkig7I4fY"
      },
      "source": [
        "# Experiment 3"
      ]
    },
    {
      "cell_type": "code",
      "metadata": {
        "colab": {
          "base_uri": "https://localhost:8080/"
        },
        "id": "my-Lx-VJI5zT",
        "outputId": "6e22ffe4-1f41-4900-8606-c77af586d148"
      },
      "source": [
        "!unzip \"/content/Dataset_2.zip\""
      ],
      "execution_count": 4,
      "outputs": [
        {
          "output_type": "stream",
          "name": "stdout",
          "text": [
            "Archive:  /content/Dataset_2.zip\n",
            "  End-of-central-directory signature not found.  Either this file is not\n",
            "  a zipfile, or it constitutes one disk of a multi-part archive.  In the\n",
            "  latter case the central directory and zipfile comment will be found on\n",
            "  the last disk(s) of this archive.\n",
            "unzip:  cannot find zipfile directory in one of /content/Dataset_2.zip or\n",
            "        /content/Dataset_2.zip.zip, and cannot find /content/Dataset_2.zip.ZIP, period.\n"
          ]
        }
      ]
    },
    {
      "cell_type": "code",
      "metadata": {
        "id": "WpoWmdLjJLML"
      },
      "source": [
        "train_csv2  = pd.read_csv('/content/verification_train.csv')\n",
        "test_csv2 = pd.read_csv('/content/verification_test.csv')"
      ],
      "execution_count": 6,
      "outputs": []
    },
    {
      "cell_type": "code",
      "metadata": {
        "id": "rtmU_CAKJlVN"
      },
      "source": [
        "import numpy as np\n",
        "class second_Dataset(Dataset):\n",
        "    \"\"\"User defined class to build a datset using Pytorch class Dataset.\"\"\"\n",
        "    \n",
        "    def __init__(self, data, transform = None):\n",
        "        \"\"\"Method to initilaize variables.\"\"\" \n",
        "        self.data_MNIST = list(data.values)\n",
        "        self.transform = transform\n",
        "        \n",
        "        label = []\n",
        "        image = []\n",
        "        \n",
        "        for i in self.data_MNIST:\n",
        "             # first column is of labels.\n",
        "            label.append(i[0])\n",
        "            image.append(i[1:])\n",
        "        self.labels = np.asarray(label)\n",
        "        self.images = np.asarray(image).reshape(-1, 28, 28, 1).astype('float32')\n",
        "\n",
        "    def __getitem__(self, index):\n",
        "        label = self.labels[index]\n",
        "        image = self.images[index]\n",
        "        \n",
        "        if self.transform is not None:\n",
        "            image = self.transform(image)\n",
        "\n",
        "        return image, label\n",
        "\n",
        "    def __len__(self):\n",
        "        return len(self.images)"
      ],
      "execution_count": 7,
      "outputs": []
    },
    {
      "cell_type": "code",
      "metadata": {
        "id": "a1jEAEZCKQIU"
      },
      "source": [
        "train_set = second_Dataset(train_csv2, transform=transforms.Compose([transforms.ToTensor()]))\n",
        "test_set = second_Dataset(test_csv2, transform=transforms.Compose([transforms.ToTensor()]))\n",
        "\n",
        "train_loader = DataLoader(train_set, batch_size=100)\n",
        "test_loader = DataLoader(train_set, batch_size=100)"
      ],
      "execution_count": 8,
      "outputs": []
    },
    {
      "cell_type": "markdown",
      "metadata": {
        "id": "OywTz1uCLg_V"
      },
      "source": [
        "For experiment 1"
      ]
    },
    {
      "cell_type": "code",
      "metadata": {
        "id": "zS6BxZFxxtMk"
      },
      "source": [
        ""
      ],
      "execution_count": 8,
      "outputs": []
    },
    {
      "cell_type": "code",
      "metadata": {
        "colab": {
          "base_uri": "https://localhost:8080/"
        },
        "id": "Za7FBndHL3HN",
        "outputId": "eac1dee8-7fb0-4dfb-d199-08cbe0c1312a"
      },
      "source": [
        "print(len(train_set))\n",
        "print(len(test_set))"
      ],
      "execution_count": 9,
      "outputs": [
        {
          "output_type": "stream",
          "name": "stdout",
          "text": [
            "60000\n",
            "10000\n"
          ]
        }
      ]
    },
    {
      "cell_type": "code",
      "metadata": {
        "colab": {
          "base_uri": "https://localhost:8080/"
        },
        "id": "tdJtSw82MSSB",
        "outputId": "869ec614-c4db-40ca-9b8b-cdd7cf51cc0e"
      },
      "source": [
        "# Hyperparameters\n",
        "\n",
        "batch_size = 20\n",
        "num_iters = 20000\n",
        "input_dim = 28*28 # num_features = 784\n",
        "num_hidden = 200 # num of hidden nodes\n",
        "output_dim = 10\n",
        "\n",
        "learning_rate = 0.01  # More power so we can learn faster! previously it was 0.001\n",
        "\n",
        "# Device\n",
        "device = torch.device(\"cuda:0\" if torch.cuda.is_available() else \"cpu\")\n",
        "\n",
        "\n",
        "\n",
        "\n",
        "'''\n",
        "MAKING DATASET ITERABLE\n",
        "'''\n",
        "num_epochs = num_iters / (len(train_set) / batch_size)\n",
        "num_epochs = int(num_epochs)\n",
        "\n",
        "train_loader = torch.utils.data.DataLoader(dataset=train_set, \n",
        "                                           batch_size=batch_size, \n",
        "                                           shuffle=True)   # It's better to shuffle the whole training dataset! \n",
        "\n",
        "test_loader = torch.utils.data.DataLoader(dataset=test_set, \n",
        "                                          batch_size=batch_size, \n",
        "                                          shuffle=False)\n",
        "\n",
        "\n",
        "\n",
        "\n",
        "\n",
        "class DeepNeuralNetworkModel(nn.Module):\n",
        "    def __init__(self, input_size, num_classes, num_hidden):\n",
        "        super().__init__()\n",
        "        ### 1st hidden layer: 784 --> 100\n",
        "        self.linear_1 = nn.Linear(input_size, num_hidden)\n",
        "        ### Non-linearity in 1st hidden layer\n",
        "        self.relu_1 = nn.ReLU()\n",
        "\n",
        "        ### 2nd hidden layer: 100 --> 100\n",
        "        self.linear_2 = nn.Linear(num_hidden, num_hidden)\n",
        "        ### Non-linearity in 2nd hidden layer\n",
        "        self.relu_2 = nn.ReLU()\n",
        "\n",
        "        ### 3rd hidden layer: 100 --> 100\n",
        "        self.linear_3 = nn.Linear(num_hidden, num_hidden)\n",
        "        ### Non-linearity in 2nd hidden layer\n",
        "        self.relu_3 = nn.ReLU()\n",
        "\n",
        "        ### 4th hidden layer: 100 --> 100\n",
        "        self.linear_4 = nn.Linear(num_hidden, num_hidden)\n",
        "        ### Non-linearity in 2nd hidden layer\n",
        "        self.relu_4 = nn.ReLU()\n",
        "\n",
        "        ### 5th hidden layer: 100 --> 100\n",
        "        self.linear_5 = nn.Linear(num_hidden, num_hidden)\n",
        "        ### Non-linearity in 2nd hidden layer\n",
        "        self.relu_5 = nn.ReLU()\n",
        "\n",
        "        ### 6th hidden layer: 100 --> 100\n",
        "        self.linear_6 = nn.Linear(num_hidden, num_hidden)\n",
        "        ### Non-linearity in 2nd hidden layer\n",
        "        self.relu_6 = nn.ReLU()\n",
        "\n",
        "        ### Output layer: 100 --> 10\n",
        "        self.linear_out = nn.Linear(num_hidden, num_classes)\n",
        "\n",
        "    def forward(self, x):\n",
        "        ### 1st hidden layer\n",
        "        out  = self.linear_1(x)\n",
        "        ### Non-linearity in 1st hidden layer\n",
        "        out = self.relu_1(out)\n",
        "        \n",
        "        ### 2nd hidden layer\n",
        "        out  = self.linear_2(out)\n",
        "        ### Non-linearity in 2nd hidden layer\n",
        "        out = self.relu_2(out)\n",
        "        \n",
        "        ### 3rd hidden layer\n",
        "        out  = self.linear_3(out)\n",
        "        ### Non-linearity in 1st hidden layer\n",
        "        out = self.relu_3(out)\n",
        "        \n",
        "        ### 4th hidden layer\n",
        "        out  = self.linear_4(out)\n",
        "        ### Non-linearity in 2nd hidden layer\n",
        "        out = self.relu_4(out)\n",
        "\n",
        "        ### 5th hidden layer\n",
        "        out  = self.linear_5(out)\n",
        "        ### Non-linearity in 1st hidden layer\n",
        "        out = self.relu_5(out)\n",
        "        \n",
        "        ### 6th hidden layer\n",
        "        out  = self.linear_6(out)\n",
        "        ### Non-linearity in 2nd hidden layer\n",
        "        out = self.relu_6(out)\n",
        "     \n",
        "        # Linear layer (output)\n",
        "        probas  = self.linear_out(out)\n",
        "        return probas\n",
        "\n",
        "\n",
        "# INSTANTIATE MODEL CLASS\n",
        "\n",
        "model = DeepNeuralNetworkModel(input_size = input_dim,\n",
        "                               num_classes = output_dim,\n",
        "                               num_hidden = num_hidden)\n",
        "# To enable GPU\n",
        "model.to(device)\n",
        "\n",
        "# INSTANTIATE LOSS & OPTIMIZER CLASS\n",
        "\n",
        "criterion = nn.CrossEntropyLoss()\n",
        "optimizer = torch.optim.SGD(model.parameters(), lr=learning_rate)\n",
        "iteration_loss= []\n",
        "iter = 0\n",
        "for epoch in range(num_epochs):\n",
        "    for i, (images, labels) in enumerate(train_loader):\n",
        "\n",
        "        images = images.view(-1, 28*28).to(device)\n",
        "        labels = labels.to(device)\n",
        "\n",
        "        # Clear gradients w.r.t. parameters\n",
        "        optimizer.zero_grad()\n",
        "\n",
        "        # Forward pass to get output/logits\n",
        "        outputs = model(images) \n",
        "\n",
        "        # Calculate Loss: softmax --> cross entropy loss\n",
        "        loss = criterion(outputs, labels)\n",
        "\n",
        "        # Getting gradients w.r.t. parameters\n",
        "        loss.backward()\n",
        "\n",
        "        # Updating parameters\n",
        "        optimizer.step()\n",
        "\n",
        "        iter += 1\n",
        "\n",
        "        if iter % 500 == 0:\n",
        "            # Calculate Accuracy         \n",
        "            correct = 0\n",
        "            total = 0\n",
        "            # Iterate through test dataset\n",
        "            for images, labels in test_loader:\n",
        "               \n",
        "                images = images.view(-1, 28*28).to(device)\n",
        "\n",
        "                # Forward pass only to get logits/output\n",
        "                outputs = model(images)\n",
        "\n",
        "                # Get predictions from the maximum value\n",
        "                _, predicted = torch.max(outputs, 1)\n",
        "\n",
        "                # Total number of labels\n",
        "                total += labels.size(0)\n",
        "\n",
        "\n",
        "                # Total correct predictions\n",
        "                if torch.cuda.is_available():\n",
        "                    correct += (predicted.cpu() == labels.cpu()).sum() \n",
        "                else:\n",
        "                    correct += (predicted == labels).sum()\n",
        "\n",
        "            accuracy = 100 * correct.item() / total\n",
        "\n",
        "            # Print Loss\n",
        "            iteration_loss.append(loss.item())\n",
        "            print('Iteration: {}. Loss: {}. Accuracy: {}'.format(iter, loss.item(), accuracy))"
      ],
      "execution_count": 10,
      "outputs": [
        {
          "output_type": "stream",
          "name": "stdout",
          "text": [
            "Iteration: 500. Loss: 0.6439918279647827. Accuracy: 78.45\n",
            "Iteration: 1000. Loss: 0.26295363903045654. Accuracy: 81.39\n",
            "Iteration: 1500. Loss: 0.8555036783218384. Accuracy: 81.07\n",
            "Iteration: 2000. Loss: 0.29444608092308044. Accuracy: 83.63\n",
            "Iteration: 2500. Loss: 0.22991855442523956. Accuracy: 85.18\n",
            "Iteration: 3000. Loss: 0.33452069759368896. Accuracy: 84.77\n",
            "Iteration: 3500. Loss: 0.39781031012535095. Accuracy: 83.72\n",
            "Iteration: 4000. Loss: 0.4153572916984558. Accuracy: 85.13\n",
            "Iteration: 4500. Loss: 0.04165446013212204. Accuracy: 86.42\n",
            "Iteration: 5000. Loss: 0.47710639238357544. Accuracy: 83.11\n",
            "Iteration: 5500. Loss: 0.22582519054412842. Accuracy: 85.89\n",
            "Iteration: 6000. Loss: 0.22875995934009552. Accuracy: 84.78\n",
            "Iteration: 6500. Loss: 0.4039989113807678. Accuracy: 85.37\n",
            "Iteration: 7000. Loss: 0.546369194984436. Accuracy: 86.98\n",
            "Iteration: 7500. Loss: 0.6979178190231323. Accuracy: 86.74\n",
            "Iteration: 8000. Loss: 0.1925526261329651. Accuracy: 86.52\n",
            "Iteration: 8500. Loss: 0.3779537081718445. Accuracy: 86.78\n",
            "Iteration: 9000. Loss: 0.09374136477708817. Accuracy: 86.5\n",
            "Iteration: 9500. Loss: 0.3033270239830017. Accuracy: 87.24\n",
            "Iteration: 10000. Loss: 0.4801381230354309. Accuracy: 86.15\n",
            "Iteration: 10500. Loss: 0.4328751564025879. Accuracy: 86.35\n",
            "Iteration: 11000. Loss: 0.2919697165489197. Accuracy: 85.46\n",
            "Iteration: 11500. Loss: 0.6562609076499939. Accuracy: 85.91\n",
            "Iteration: 12000. Loss: 0.20890744030475616. Accuracy: 85.69\n",
            "Iteration: 12500. Loss: 0.22931678593158722. Accuracy: 88.05\n",
            "Iteration: 13000. Loss: 0.12189160287380219. Accuracy: 86.4\n",
            "Iteration: 13500. Loss: 0.46282273530960083. Accuracy: 87.6\n",
            "Iteration: 14000. Loss: 0.3808688521385193. Accuracy: 88.58\n",
            "Iteration: 14500. Loss: 0.08998873084783554. Accuracy: 86.7\n",
            "Iteration: 15000. Loss: 0.06176230311393738. Accuracy: 87.97\n",
            "Iteration: 15500. Loss: 0.16529029607772827. Accuracy: 88.58\n",
            "Iteration: 16000. Loss: 0.36952465772628784. Accuracy: 88.21\n",
            "Iteration: 16500. Loss: 0.10613854229450226. Accuracy: 87.81\n",
            "Iteration: 17000. Loss: 0.23567378520965576. Accuracy: 86.84\n",
            "Iteration: 17500. Loss: 0.33878257870674133. Accuracy: 87.64\n",
            "Iteration: 18000. Loss: 0.4110471308231354. Accuracy: 88.53\n"
          ]
        }
      ]
    },
    {
      "cell_type": "code",
      "metadata": {
        "colab": {
          "base_uri": "https://localhost:8080/",
          "height": 316
        },
        "id": "Egeoid1fNCBc",
        "outputId": "4885fd49-ef55-46c7-be4d-34d6807e35e4"
      },
      "source": [
        "import matplotlib\n",
        "import matplotlib.pyplot as plt\n",
        "\n",
        "print (iteration_loss)\n",
        "plt.plot(iteration_loss)\n",
        "plt.ylabel('Loss')\n",
        "plt.xlabel('Iteration (in every 500)')\n",
        "plt.show()"
      ],
      "execution_count": 11,
      "outputs": [
        {
          "output_type": "stream",
          "name": "stdout",
          "text": [
            "[0.6439918279647827, 0.26295363903045654, 0.8555036783218384, 0.29444608092308044, 0.22991855442523956, 0.33452069759368896, 0.39781031012535095, 0.4153572916984558, 0.04165446013212204, 0.47710639238357544, 0.22582519054412842, 0.22875995934009552, 0.4039989113807678, 0.546369194984436, 0.6979178190231323, 0.1925526261329651, 0.3779537081718445, 0.09374136477708817, 0.3033270239830017, 0.4801381230354309, 0.4328751564025879, 0.2919697165489197, 0.6562609076499939, 0.20890744030475616, 0.22931678593158722, 0.12189160287380219, 0.46282273530960083, 0.3808688521385193, 0.08998873084783554, 0.06176230311393738, 0.16529029607772827, 0.36952465772628784, 0.10613854229450226, 0.23567378520965576, 0.33878257870674133, 0.4110471308231354]\n"
          ]
        },
        {
          "output_type": "display_data",
          "data": {
            "image/png": "[encoded data removed]",
            "text/plain": [
              "<Figure size 432x288 with 1 Axes>"
            ]
          },
          "metadata": {
            "needs_background": "light"
          }
        }
      ]
    },
    {
      "cell_type": "code",
      "metadata": {
        "id": "elXhZZXaQRR_"
      },
      "source": [
        ""
      ],
      "execution_count": 11,
      "outputs": []
    },
    {
      "cell_type": "markdown",
      "metadata": {
        "id": "EYDq9VlyQas5"
      },
      "source": [
        "For experiment 2"
      ]
    },
    {
      "cell_type": "code",
      "metadata": {
        "colab": {
          "base_uri": "https://localhost:8080/"
        },
        "id": "MjVggKBIQsiB",
        "outputId": "8796cda1-85fc-4a78-c1a8-1facb83e757c"
      },
      "source": [
        "# Hyperparameters\n",
        "\n",
        "batch_size = 100\n",
        "num_iters = 50000\n",
        "input_dim = 28*28 # num_features = 784\n",
        "num_hidden = 1000 # num of hidden nodes\n",
        "output_dim = 10\n",
        "\n",
        "learning_rate = 0.01  # More power so we can learn faster! previously it was 0.001\n",
        "\n",
        "# Device\n",
        "device = torch.device(\"cuda:0\" if torch.cuda.is_available() else \"cpu\")\n",
        "\n",
        "\n",
        "'''\n",
        "MAKING DATASET ITERABLE\n",
        "'''\n",
        "num_epochs = num_iters / (len(train_set) / batch_size)\n",
        "num_epochs = int(num_epochs)\n",
        "\n",
        "train_loader = torch.utils.data.DataLoader(dataset=train_set, \n",
        "                                           batch_size=batch_size, \n",
        "                                           shuffle=True)   # It's better to shuffle the whole training dataset! \n",
        "\n",
        "test_loader = torch.utils.data.DataLoader(dataset=test_set, \n",
        "                                          batch_size=batch_size, \n",
        "                                          shuffle=False)  \n",
        "\n",
        "class DeepNeuralNetworkModel(nn.Module):\n",
        "    def __init__(self, input_size, num_classes, num_hidden):\n",
        "        super().__init__()\n",
        "        ### 1st hidden layer: 784 --> 100\n",
        "        self.linear_1 = nn.Linear(input_size, num_hidden)\n",
        "        ### Non-linearity in 1st hidden layer\n",
        "        self.relu_1 = nn.ReLU()\n",
        "\n",
        "        ### 2nd hidden layer: 100 --> 100\n",
        "        self.linear_2 = nn.Linear(num_hidden, num_hidden)\n",
        "        ### Non-linearity in 2nd hidden layer\n",
        "        self.relu_2 = nn.ReLU()\n",
        "\n",
        "        ### 3rd hidden layer: 100 --> 100\n",
        "        self.linear_3 = nn.Linear(num_hidden, num_hidden)\n",
        "        ### Non-linearity in 3rd hidden layer\n",
        "        self.relu_3 = nn.ReLU()\n",
        "\n",
        "        ### 4th hidden layer: 100 --> 100\n",
        "        self.linear_4 = nn.Linear(num_hidden, num_hidden)\n",
        "        ### Non-linearity in 4th hidden layer\n",
        "        self.relu_4 = nn.ReLU()\n",
        "\n",
        "        ### 5th hidden layer: 100 --> 100\n",
        "        self.linear_5 = nn.Linear(num_hidden, num_hidden)\n",
        "        ### Non-linearity in 5th hidden layer\n",
        "        self.relu_5 = nn.ReLU()\n",
        "\n",
        "        ### 6th hidden layer: 100 --> 100\n",
        "        self.linear_6 = nn.Linear(num_hidden, num_hidden)\n",
        "        ### Non-linearity in 6th hidden layer\n",
        "        self.relu_6 = nn.ReLU()\n",
        "\n",
        "        ### Output layer: 100 --> 10\n",
        "        self.linear_out = nn.Linear(num_hidden, num_classes)\n",
        "\n",
        "    def forward(self, x):\n",
        "        ### 1st hidden layer\n",
        "        out  = self.linear_1(x)\n",
        "        ### Non-linearity in 1st hidden layer\n",
        "        out = self.relu_1(out)\n",
        "        \n",
        "        ### 2nd hidden layer\n",
        "        out  = self.linear_2(out)\n",
        "        ### Non-linearity in 2nd hidden layer\n",
        "        out = self.relu_2(out)\n",
        "        \n",
        "        ### 3rd hidden layer\n",
        "        out  = self.linear_3(out)\n",
        "        ### Non-linearity in 1st hidden layer\n",
        "        out = self.relu_3(out)\n",
        "\n",
        "         ### 4rd hidden layer\n",
        "        out  = self.linear_4(out)\n",
        "        ### Non-linearity in 1st hidden layer\n",
        "        out = self.relu_4(out)\n",
        "\n",
        "      ### 5rd hidden layer\n",
        "        out  = self.linear_5(out)\n",
        "        ### Non-linearity in 1st hidden layer\n",
        "        out = self.relu_5(out)\n",
        "\n",
        "      ### 6rd hidden layer\n",
        "        out  = self.linear_6(out)\n",
        "        ### Non-linearity in 1st hidden layer\n",
        "        out = self.relu_6(out)\n",
        "      \n",
        "        # Linear layer (output)\n",
        "        probas  = self.linear_out(out)\n",
        "        return probas\n",
        "\n",
        "\n",
        "# INSTANTIATE MODEL CLASS\n",
        "\n",
        "model = DeepNeuralNetworkModel(input_size = input_dim,\n",
        "                               num_classes = output_dim,\n",
        "                               num_hidden = num_hidden)\n",
        "# To enable GPU\n",
        "model.to(device)\n",
        "\n",
        "# INSTANTIATE LOSS & OPTIMIZER CLASS\n",
        "\n",
        "criterion = nn.CrossEntropyLoss()\n",
        "optimizer = torch.optim.SGD(model.parameters(), lr=learning_rate)\n",
        "\n",
        "iteration_loss = []\n",
        "iter = 0\n",
        "for epoch in range(num_epochs):\n",
        "    for i, (images, labels) in enumerate(train_loader):\n",
        "\n",
        "        images = images.view(-1, 28*28).to(device)\n",
        "        labels = labels.to(device)\n",
        "\n",
        "        # Clear gradients w.r.t. parameters\n",
        "        optimizer.zero_grad()\n",
        "\n",
        "        # Forward pass to get output/logits\n",
        "        outputs = model(images) \n",
        "\n",
        "        # Calculate Loss: softmax --> cross entropy loss\n",
        "        loss = criterion(outputs, labels)\n",
        "\n",
        "        # Getting gradients w.r.t. parameters\n",
        "        loss.backward()\n",
        "\n",
        "        # Updating parameters\n",
        "        optimizer.step()\n",
        "\n",
        "        iter += 1\n",
        "\n",
        "        if iter % 500 == 0:\n",
        "            # Calculate Accuracy         \n",
        "            correct = 0\n",
        "            total = 0\n",
        "            # Iterate through test dataset\n",
        "            for images, labels in test_loader:\n",
        "               \n",
        "                images = images.view(-1, 28*28).to(device)\n",
        "\n",
        "                # Forward pass only to get logits/output\n",
        "                outputs = model(images)\n",
        "\n",
        "                # Get predictions from the maximum value\n",
        "                _, predicted = torch.max(outputs, 1)\n",
        "\n",
        "                # Total number of labels\n",
        "                total += labels.size(0)\n",
        "\n",
        "\n",
        "                # Total correct predictions\n",
        "                if torch.cuda.is_available():\n",
        "                    correct += (predicted.cpu() == labels.cpu()).sum() \n",
        "                else:\n",
        "                    correct += (predicted == labels).sum()\n",
        "\n",
        "            accuracy = 100 * correct.item() / total\n",
        "\n",
        "            # Print Loss\n",
        "            iteration_loss.append(loss.item())\n",
        "            print('Iteration: {}. Loss: {}. Accuracy: {}'.format(iter, loss.item(), accuracy))\n"
      ],
      "execution_count": 12,
      "outputs": [
        {
          "output_type": "stream",
          "name": "stdout",
          "text": [
            "Iteration: 500. Loss: 0.34750598669052124. Accuracy: 85.72\n",
            "Iteration: 1000. Loss: 0.30532750487327576. Accuracy: 86.34\n",
            "Iteration: 1500. Loss: 0.4223014712333679. Accuracy: 87.42\n",
            "Iteration: 2000. Loss: 0.3694678843021393. Accuracy: 86.64\n",
            "Iteration: 2500. Loss: 0.2725166082382202. Accuracy: 88.32\n",
            "Iteration: 3000. Loss: 0.2745942175388336. Accuracy: 88.29\n",
            "Iteration: 3500. Loss: 0.2624613642692566. Accuracy: 87.92\n",
            "Iteration: 4000. Loss: 0.21653617918491364. Accuracy: 88.81\n",
            "Iteration: 4500. Loss: 0.24547596275806427. Accuracy: 87.78\n",
            "Iteration: 5000. Loss: 0.15418210625648499. Accuracy: 88.09\n",
            "Iteration: 5500. Loss: 0.17795106768608093. Accuracy: 88.58\n",
            "Iteration: 6000. Loss: 0.10858937352895737. Accuracy: 89.6\n",
            "Iteration: 6500. Loss: 0.2467653602361679. Accuracy: 89.85\n",
            "Iteration: 7000. Loss: 0.1825697124004364. Accuracy: 89.16\n",
            "Iteration: 7500. Loss: 0.19942346215248108. Accuracy: 88.99\n",
            "Iteration: 8000. Loss: 0.24598319828510284. Accuracy: 89.24\n",
            "Iteration: 8500. Loss: 0.08067880570888519. Accuracy: 89.65\n",
            "Iteration: 9000. Loss: 0.13090316951274872. Accuracy: 89.78\n",
            "Iteration: 9500. Loss: 0.21754617989063263. Accuracy: 88.74\n",
            "Iteration: 10000. Loss: 0.12709450721740723. Accuracy: 90.3\n",
            "Iteration: 10500. Loss: 0.12718172371387482. Accuracy: 90.12\n",
            "Iteration: 11000. Loss: 0.11052016168832779. Accuracy: 89.72\n",
            "Iteration: 11500. Loss: 0.1649623066186905. Accuracy: 89.27\n",
            "Iteration: 12000. Loss: 0.11514009535312653. Accuracy: 89.8\n",
            "Iteration: 12500. Loss: 0.17140613496303558. Accuracy: 89.86\n",
            "Iteration: 13000. Loss: 0.09933438897132874. Accuracy: 89.41\n",
            "Iteration: 13500. Loss: 0.11575232446193695. Accuracy: 90.27\n",
            "Iteration: 14000. Loss: 0.03389452397823334. Accuracy: 89.48\n",
            "Iteration: 14500. Loss: 0.04055175930261612. Accuracy: 90.22\n",
            "Iteration: 15000. Loss: 0.09710628539323807. Accuracy: 89.84\n",
            "Iteration: 15500. Loss: 0.0965333953499794. Accuracy: 90.21\n",
            "Iteration: 16000. Loss: 0.10127832740545273. Accuracy: 90.04\n",
            "Iteration: 16500. Loss: 0.12038102746009827. Accuracy: 89.52\n",
            "Iteration: 17000. Loss: 0.05613476783037186. Accuracy: 89.6\n",
            "Iteration: 17500. Loss: 0.14491704106330872. Accuracy: 89.41\n",
            "Iteration: 18000. Loss: 0.052994947880506516. Accuracy: 89.44\n",
            "Iteration: 18500. Loss: 0.07021801173686981. Accuracy: 90.23\n",
            "Iteration: 19000. Loss: 0.06097457557916641. Accuracy: 90.43\n",
            "Iteration: 19500. Loss: 0.07543535530567169. Accuracy: 89.81\n",
            "Iteration: 20000. Loss: 0.044714003801345825. Accuracy: 89.23\n",
            "Iteration: 20500. Loss: 0.023624522611498833. Accuracy: 90.65\n",
            "Iteration: 21000. Loss: 0.0495610386133194. Accuracy: 90.4\n",
            "Iteration: 21500. Loss: 0.013417934067547321. Accuracy: 90.76\n",
            "Iteration: 22000. Loss: 0.06257704645395279. Accuracy: 89.15\n",
            "Iteration: 22500. Loss: 0.015317516401410103. Accuracy: 90.02\n",
            "Iteration: 23000. Loss: 0.027066407725214958. Accuracy: 90.5\n",
            "Iteration: 23500. Loss: 0.05823924392461777. Accuracy: 90.46\n",
            "Iteration: 24000. Loss: 0.0594400130212307. Accuracy: 88.85\n",
            "Iteration: 24500. Loss: 0.03830685093998909. Accuracy: 90.37\n",
            "Iteration: 25000. Loss: 0.020517300814390182. Accuracy: 90.38\n",
            "Iteration: 25500. Loss: 0.09332337975502014. Accuracy: 89.96\n",
            "Iteration: 26000. Loss: 0.005911586340516806. Accuracy: 90.79\n",
            "Iteration: 26500. Loss: 0.0836198553442955. Accuracy: 89.89\n",
            "Iteration: 27000. Loss: 0.15700142085552216. Accuracy: 88.41\n",
            "Iteration: 27500. Loss: 0.02432936243712902. Accuracy: 90.76\n",
            "Iteration: 28000. Loss: 0.06472905725240707. Accuracy: 89.91\n",
            "Iteration: 28500. Loss: 0.054737258702516556. Accuracy: 90.38\n",
            "Iteration: 29000. Loss: 0.07290863990783691. Accuracy: 89.68\n",
            "Iteration: 29500. Loss: 0.00710113812237978. Accuracy: 90.64\n",
            "Iteration: 30000. Loss: 0.020111525431275368. Accuracy: 90.6\n",
            "Iteration: 30500. Loss: 0.02717309258878231. Accuracy: 90.09\n",
            "Iteration: 31000. Loss: 0.016343124210834503. Accuracy: 90.65\n",
            "Iteration: 31500. Loss: 0.04639799892902374. Accuracy: 90.21\n",
            "Iteration: 32000. Loss: 0.013700563460588455. Accuracy: 90.55\n",
            "Iteration: 32500. Loss: 0.013728960417211056. Accuracy: 90.6\n",
            "Iteration: 33000. Loss: 0.03969200700521469. Accuracy: 90.42\n",
            "Iteration: 33500. Loss: 0.0527217723429203. Accuracy: 90.62\n",
            "Iteration: 34000. Loss: 0.008399087935686111. Accuracy: 90.67\n",
            "Iteration: 34500. Loss: 0.005809728056192398. Accuracy: 90.82\n",
            "Iteration: 35000. Loss: 0.0033422864507883787. Accuracy: 90.24\n",
            "Iteration: 35500. Loss: 0.005231713876128197. Accuracy: 90.64\n",
            "Iteration: 36000. Loss: 0.011879194527864456. Accuracy: 90.61\n",
            "Iteration: 36500. Loss: 0.0340580977499485. Accuracy: 90.42\n",
            "Iteration: 37000. Loss: 0.00591285340487957. Accuracy: 90.94\n",
            "Iteration: 37500. Loss: 0.0014236195711418986. Accuracy: 90.99\n",
            "Iteration: 38000. Loss: 0.0023586112074553967. Accuracy: 90.56\n",
            "Iteration: 38500. Loss: 0.000453751563327387. Accuracy: 90.93\n",
            "Iteration: 39000. Loss: 0.02403751201927662. Accuracy: 90.49\n",
            "Iteration: 39500. Loss: 0.022031094878911972. Accuracy: 90.58\n",
            "Iteration: 40000. Loss: 0.0007455522427335382. Accuracy: 90.99\n",
            "Iteration: 40500. Loss: 0.0005392273887991905. Accuracy: 90.93\n",
            "Iteration: 41000. Loss: 0.023051250725984573. Accuracy: 89.82\n",
            "Iteration: 41500. Loss: 0.0033301266375929117. Accuracy: 90.69\n",
            "Iteration: 42000. Loss: 0.004634165670722723. Accuracy: 90.36\n",
            "Iteration: 42500. Loss: 0.008300337940454483. Accuracy: 90.81\n",
            "Iteration: 43000. Loss: 0.011268985457718372. Accuracy: 90.16\n",
            "Iteration: 43500. Loss: 0.0016301871510222554. Accuracy: 91.01\n",
            "Iteration: 44000. Loss: 0.00020375914755277336. Accuracy: 90.78\n",
            "Iteration: 44500. Loss: 0.005060160532593727. Accuracy: 90.7\n",
            "Iteration: 45000. Loss: 0.030810434371232986. Accuracy: 90.47\n",
            "Iteration: 45500. Loss: 0.0007479388732463121. Accuracy: 91.17\n",
            "Iteration: 46000. Loss: 0.00309776165522635. Accuracy: 91.11\n",
            "Iteration: 46500. Loss: 0.02411654405295849. Accuracy: 90.94\n",
            "Iteration: 47000. Loss: 0.0014261528849601746. Accuracy: 91.1\n",
            "Iteration: 47500. Loss: 0.0005477148224599659. Accuracy: 91.34\n",
            "Iteration: 48000. Loss: 0.005233864299952984. Accuracy: 90.57\n",
            "Iteration: 48500. Loss: 0.0013866261579096317. Accuracy: 91.26\n",
            "Iteration: 49000. Loss: 0.0001850890985224396. Accuracy: 91.18\n",
            "Iteration: 49500. Loss: 4.322249151300639e-05. Accuracy: 91.28\n"
          ]
        }
      ]
    },
    {
      "cell_type": "code",
      "metadata": {
        "colab": {
          "base_uri": "https://localhost:8080/",
          "height": 316
        },
        "id": "sRwHUTSiRARF",
        "outputId": "ecdbee52-477d-4b88-c10f-17d1eb7326f2"
      },
      "source": [
        "import matplotlib\n",
        "import matplotlib.pyplot as plt\n",
        "\n",
        "print (iteration_loss)\n",
        "plt.plot(iteration_loss)\n",
        "plt.ylabel('Loss')\n",
        "plt.xlabel('Iteration (in every 500)')\n",
        "plt.show()"
      ],
      "execution_count": 13,
      "outputs": [
        {
          "output_type": "stream",
          "name": "stdout",
          "text": [
            "[0.34750598669052124, 0.30532750487327576, 0.4223014712333679, 0.3694678843021393, 0.2725166082382202, 0.2745942175388336, 0.2624613642692566, 0.21653617918491364, 0.24547596275806427, 0.15418210625648499, 0.17795106768608093, 0.10858937352895737, 0.2467653602361679, 0.1825697124004364, 0.19942346215248108, 0.24598319828510284, 0.08067880570888519, 0.13090316951274872, 0.21754617989063263, 0.12709450721740723, 0.12718172371387482, 0.11052016168832779, 0.1649623066186905, 0.11514009535312653, 0.17140613496303558, 0.09933438897132874, 0.11575232446193695, 0.03389452397823334, 0.04055175930261612, 0.09710628539323807, 0.0965333953499794, 0.10127832740545273, 0.12038102746009827, 0.05613476783037186, 0.14491704106330872, 0.052994947880506516, 0.07021801173686981, 0.06097457557916641, 0.07543535530567169, 0.044714003801345825, 0.023624522611498833, 0.0495610386133194, 0.013417934067547321, 0.06257704645395279, 0.015317516401410103, 0.027066407725214958, 0.05823924392461777, 0.0594400130212307, 0.03830685093998909, 0.020517300814390182, 0.09332337975502014, 0.005911586340516806, 0.0836198553442955, 0.15700142085552216, 0.02432936243712902, 0.06472905725240707, 0.054737258702516556, 0.07290863990783691, 0.00710113812237978, 0.020111525431275368, 0.02717309258878231, 0.016343124210834503, 0.04639799892902374, 0.013700563460588455, 0.013728960417211056, 0.03969200700521469, 0.0527217723429203, 0.008399087935686111, 0.005809728056192398, 0.0033422864507883787, 0.005231713876128197, 0.011879194527864456, 0.0340580977499485, 0.00591285340487957, 0.0014236195711418986, 0.0023586112074553967, 0.000453751563327387, 0.02403751201927662, 0.022031094878911972, 0.0007455522427335382, 0.0005392273887991905, 0.023051250725984573, 0.0033301266375929117, 0.004634165670722723, 0.008300337940454483, 0.011268985457718372, 0.0016301871510222554, 0.00020375914755277336, 0.005060160532593727, 0.030810434371232986, 0.0007479388732463121, 0.00309776165522635, 0.02411654405295849, 0.0014261528849601746, 0.0005477148224599659, 0.005233864299952984, 0.0013866261579096317, 0.0001850890985224396, 4.322249151300639e-05]\n"
          ]
        },
        {
          "output_type": "display_data",
          "data": {
            "image/png": "[encoded data removed]",
            "text/plain": [
              "<Figure size 432x288 with 1 Axes>"
            ]
          },
          "metadata": {
            "needs_background": "light"
          }
        }
      ]
    },
    {
      "cell_type": "code",
      "metadata": {
        "id": "nPuF3fuNVaRQ"
      },
      "source": [
        ""
      ],
      "execution_count": 13,
      "outputs": []
    }
  ]
}